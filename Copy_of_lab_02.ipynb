{
  "cells": [
    {
      "cell_type": "markdown",
      "metadata": {
        "id": "fnMN-XEQdUQj"
      },
      "source": [
        "[![image](https://colab.research.google.com/assets/colab-badge.svg)](https://colab.research.google.com/github/giswqs/geog-312/blob/master/labs/lab_02.ipynb)\n",
        "[![image](https://binder.pangeo.io/badge_logo.svg)](https://gishub.org/geog312-pangeo)"
      ]
    },
    {
      "cell_type": "markdown",
      "metadata": {
        "id": "5209bRDLdUQm"
      },
      "source": [
        "**Sam Kilgore**"
      ]
    },
    {
      "cell_type": "code",
      "execution_count": null,
      "metadata": {
        "id": "FqOSNp37dUQm"
      },
      "outputs": [],
      "source": [
        "from datetime import datetime\n",
        "\n",
        "now = datetime.now()\n",
        "print(f\"Submitted time: {now}\")"
      ]
    },
    {
      "cell_type": "markdown",
      "metadata": {
        "id": "1Kiw1KaXdUQn"
      },
      "source": [
        "## Question 1\n",
        "**Names:** Store the names of a few of your friends in a list called names. Print\n",
        "each person’s name by accessing each element in the list, one at a time."
      ]
    },
    {
      "cell_type": "code",
      "execution_count": null,
      "metadata": {
        "id": "EchPR_QjdUQn",
        "colab": {
          "base_uri": "https://localhost:8080/"
        },
        "outputId": "7fa55ac3-cc62-42ac-8121-d77efb16e139"
      },
      "outputs": [
        {
          "output_type": "stream",
          "name": "stdout",
          "text": [
            "Kylie\n",
            "Garrett\n",
            "Diana\n",
            "Malik\n"
          ]
        }
      ],
      "source": [
        "names = [\"Kylie\", \"Garrett\", \"Diana\", \"Malik\"]\n",
        "print(names[0])\n",
        "print(names[1])\n",
        "print(names[2])\n",
        "print(names[3])"
      ]
    },
    {
      "cell_type": "markdown",
      "metadata": {
        "id": "NlccFF75dUQo"
      },
      "source": [
        "## Question 2\n",
        "**Greetings:** Start with the list you used in Question 1, but instead of just printing each person’s name, print a message to them. The text of each message should be the same, but each message should be personalized with the person’s name."
      ]
    },
    {
      "cell_type": "code",
      "execution_count": null,
      "metadata": {
        "id": "5rA7_Nh7dUQo",
        "colab": {
          "base_uri": "https://localhost:8080/"
        },
        "outputId": "884ddea5-6484-4c3d-e268-55dfddc7ee81"
      },
      "outputs": [
        {
          "output_type": "stream",
          "name": "stdout",
          "text": [
            "Kylie is not a fan of blue cheese.\n",
            "Garrett is not a fan of blue cheese.\n",
            "Diana is not a fan of blue cheese.\n",
            "Malik is not a fan of blue cheese.\n"
          ]
        }
      ],
      "source": [
        "print(f\"{names[0]} is not a fan of blue cheese.\")\n",
        "print(f\"{names[1]} is not a fan of blue cheese.\")\n",
        "print(f\"{names[2]} is not a fan of blue cheese.\")\n",
        "print(f\"{names[3]} is not a fan of blue cheese.\")"
      ]
    },
    {
      "cell_type": "markdown",
      "metadata": {
        "id": "SmmdNo6EdUQp"
      },
      "source": [
        "## Question 3\n",
        "**Your Own List:** Think of your favorite mode of transportation, such as a motorcycle or a car, and make a list that stores several examples. Use your list to print a series of statements about these items, such as “I would like to own a Honda motorcycle.”"
      ]
    },
    {
      "cell_type": "code",
      "execution_count": null,
      "metadata": {
        "id": "LMTC-PT0dUQp",
        "colab": {
          "base_uri": "https://localhost:8080/"
        },
        "outputId": "b027878d-ca18-4297-c7bd-dc6595a70215"
      },
      "outputs": [
        {
          "output_type": "stream",
          "name": "stdout",
          "text": [
            "Getting around town using rollerskates is not easy.\n",
            "Getting around town using the subway is not easy.\n",
            "Getting around town using taxi is not easy.\n",
            "Getting around town using horseback is not easy.\n",
            "Getting around town using my Nissan Sentra is not easy.\n"
          ]
        }
      ],
      "source": [
        "transport = [\"rollerskates\", \"the subway\", \"taxi\", \"horseback\", \"my Nissan Sentra\"]\n",
        "print(f\"Getting around town using {transport[0]} is not easy.\")\n",
        "print(f\"Getting around town using {transport[1]} is not easy.\")\n",
        "print(f\"Getting around town using {transport[2]} is not easy.\")\n",
        "print(f\"Getting around town using {transport[3]} is not easy.\")\n",
        "print(f\"Getting around town using {transport[4]} is not easy.\")"
      ]
    },
    {
      "cell_type": "markdown",
      "metadata": {
        "id": "sF0tjdvPdUQp"
      },
      "source": [
        "## Question 4\n",
        "**Guest List:** If you could invite anyone, living or deceased, to dinner, who would you invite? Make a list that includes at least three people you’d like to invite to dinner. Then use your list to print a message to each person, inviting them to dinner."
      ]
    },
    {
      "cell_type": "code",
      "execution_count": null,
      "metadata": {
        "id": "1IsGK115dUQq",
        "colab": {
          "base_uri": "https://localhost:8080/"
        },
        "outputId": "ed010003-50b3-4652-c3aa-3bf0ea547377"
      },
      "outputs": [
        {
          "output_type": "stream",
          "name": "stdout",
          "text": [
            "This memorandum serves to cordially inquire upon Bill Murray to an evening of food and friends.\n",
            "This memorandum serves to cordially inquire upon Michael Cera to an evening of food and friends.\n",
            "This memorandum serves to cordially inquire upon Beyonce to an evening of food and friends.\n",
            "This memorandum serves to cordially inquire upon D. B. Cooper to an evening of food and friends.\n"
          ]
        }
      ],
      "source": [
        "invitees = [\"Bill Murray\", \"Michael Cera\", \"Beyonce\", \"D. B. Cooper\"]\n",
        "\n",
        "print(f\"This memorandum serves to cordially inquire upon {invitees[0]} to an evening of food and friends.\")\n",
        "print(f\"This memorandum serves to cordially inquire upon {invitees[1]} to an evening of food and friends.\")\n",
        "print(f\"This memorandum serves to cordially inquire upon {invitees[2]} to an evening of food and friends.\")\n",
        "print(f\"This memorandum serves to cordially inquire upon {invitees[3]} to an evening of food and friends.\")\n"
      ]
    },
    {
      "cell_type": "markdown",
      "metadata": {
        "id": "PGMqjOJidUQq"
      },
      "source": [
        "## Question 5\n",
        "**Changing Guest List:** You just heard that one of your guests can’t make the dinner, so you need to send out a new set of invitations. You’ll have to think of someone else to invite."
      ]
    },
    {
      "cell_type": "markdown",
      "metadata": {
        "id": "XXGHhtT9dUQq"
      },
      "source": [
        "Start with your program from Question 4. Add a print() call at the end of your program stating the name of the guest who can’t make it."
      ]
    },
    {
      "cell_type": "code",
      "execution_count": 46,
      "metadata": {
        "id": "YRfLsqPvdUQq",
        "colab": {
          "base_uri": "https://localhost:8080/"
        },
        "outputId": "747c76ac-9f8a-4be7-dee0-69786d9e176c"
      },
      "outputs": [
        {
          "output_type": "stream",
          "name": "stdout",
          "text": [
            "Michael Cera sends his regrets as he cannot be in attendance at the dinner.\n"
          ]
        }
      ],
      "source": [
        "invitees = [\"Bill Murray\", \"Michael Cera\", \"Beyonce\", \"D. B. Cooper\"]\n",
        "\n",
        "print(f\"{invitees[1]} sends his regrets as he cannot be in attendance at the dinner.\")"
      ]
    },
    {
      "cell_type": "markdown",
      "metadata": {
        "id": "ocCmaSd5dUQq"
      },
      "source": [
        "Modify your list, replacing the name of the guest who can’t make it with the name of the new person you are inviting."
      ]
    },
    {
      "cell_type": "code",
      "execution_count": 38,
      "metadata": {
        "id": "CRTDysFEdUQq"
      },
      "outputs": [],
      "source": [
        "invitees[1] = \"Ryan Seacrest\""
      ]
    },
    {
      "cell_type": "markdown",
      "metadata": {
        "id": "TTnNHKSydUQq"
      },
      "source": [
        "Print a second set of invitation messages, one for each person who is still in your list."
      ]
    },
    {
      "cell_type": "code",
      "execution_count": 18,
      "metadata": {
        "id": "2qz2pa0VdUQr",
        "colab": {
          "base_uri": "https://localhost:8080/"
        },
        "outputId": "61154332-8470-4e8a-fda7-77fb4f67d06c"
      },
      "outputs": [
        {
          "output_type": "stream",
          "name": "stdout",
          "text": [
            "This memorandum serves to cordially inquire upon Bill Murray to an evening of food and friends.\n",
            "This memorandum serves to cordially inquire upon Ryan Seacrest to an evening of food and friends.\n",
            "This memorandum serves to cordially inquire upon Beyonce to an evening of food and friends.\n",
            "This memorandum serves to cordially inquire upon D. B. Cooper to an evening of food and friends.\n"
          ]
        }
      ],
      "source": [
        "print(f\"This memorandum serves to cordially inquire upon {invitees[0]} to an evening of food and friends.\")\n",
        "print(f\"This memorandum serves to cordially inquire upon {invitees[1]} to an evening of food and friends.\")\n",
        "print(f\"This memorandum serves to cordially inquire upon {invitees[2]} to an evening of food and friends.\")\n",
        "print(f\"This memorandum serves to cordially inquire upon {invitees[3]} to an evening of food and friends.\")"
      ]
    },
    {
      "cell_type": "markdown",
      "metadata": {
        "id": "cmnVs7cPdUQr"
      },
      "source": [
        "## Question 6\n",
        "**More Guests:** You just found a bigger dinner table, so now more space is available. Think of three more guests to invite to dinner."
      ]
    },
    {
      "cell_type": "markdown",
      "metadata": {
        "id": "AENdIjaOdUQr"
      },
      "source": [
        "Start with your program from Question 4 or Question 5. Add a print() call to the end of your program informing people that you found a bigger dinner table."
      ]
    },
    {
      "cell_type": "code",
      "execution_count": 19,
      "metadata": {
        "id": "BQrhIGYNdUQr",
        "colab": {
          "base_uri": "https://localhost:8080/"
        },
        "outputId": "1f9cd586-4390-4548-8de4-6645cc38590a"
      },
      "outputs": [
        {
          "output_type": "stream",
          "name": "stdout",
          "text": [
            "Due to recent developments, Bob Saget, John Deere, and John Wayne will also be in attendance.\n"
          ]
        }
      ],
      "source": [
        "print(\"Due to recent developments, Bob Saget, John Deere, and John Wayne will also be in attendance.\")"
      ]
    },
    {
      "cell_type": "markdown",
      "metadata": {
        "id": "sjKqca3NdUQr"
      },
      "source": [
        "Use insert() to add one new guest to the beginning of your list."
      ]
    },
    {
      "cell_type": "code",
      "execution_count": 47,
      "metadata": {
        "id": "RC4k4az3dUQr"
      },
      "outputs": [],
      "source": [
        "invitees.insert(0, \"Bob Saget\")"
      ]
    },
    {
      "cell_type": "markdown",
      "metadata": {
        "id": "BWUoEjfodUQr"
      },
      "source": [
        "Use insert() to add one new guest to the middle of your list."
      ]
    },
    {
      "cell_type": "code",
      "execution_count": 48,
      "metadata": {
        "id": "CDbrAuXhdUQr"
      },
      "outputs": [],
      "source": [
        "invitees.insert(2, \"John Deere\")"
      ]
    },
    {
      "cell_type": "markdown",
      "metadata": {
        "id": "YYxxbQ3OdUQr"
      },
      "source": [
        "Use append() to add one new guest to the end of your list."
      ]
    },
    {
      "cell_type": "code",
      "execution_count": 49,
      "metadata": {
        "id": "UY_M6YK0dUQs"
      },
      "outputs": [],
      "source": [
        "invitees.append(\"John Wayne\")"
      ]
    },
    {
      "cell_type": "markdown",
      "metadata": {
        "id": "NN28BPf8dUQs"
      },
      "source": [
        "Print a new set of invitation messages, one for each person in your list."
      ]
    },
    {
      "cell_type": "code",
      "execution_count": 23,
      "metadata": {
        "id": "amoKuIG1dUQs",
        "colab": {
          "base_uri": "https://localhost:8080/"
        },
        "outputId": "14e71415-6490-4e7e-8882-554427186175"
      },
      "outputs": [
        {
          "output_type": "stream",
          "name": "stdout",
          "text": [
            "This memorandum serves to cordially inquire upon Bob Saget to an evening of food and friends.\n",
            "This memorandum serves to cordially inquire upon Bill Murray to an evening of food and friends.\n",
            "This memorandum serves to cordially inquire upon John Deere to an evening of food and friends.\n",
            "This memorandum serves to cordially inquire upon Ryan Seacrest to an evening of food and friends.\n",
            "This memorandum serves to cordially inquire upon Beyonce to an evening of food and friends.\n",
            "This memorandum serves to cordially inquire upon D. B. Cooper to an evening of food and friends.\n",
            "This memorandum serves to cordially inquire upon John Wayne to an evening of food and friends.\n"
          ]
        }
      ],
      "source": [
        "print(f\"This memorandum serves to cordially inquire upon {invitees[0]} to an evening of food and friends.\")\n",
        "print(f\"This memorandum serves to cordially inquire upon {invitees[1]} to an evening of food and friends.\")\n",
        "print(f\"This memorandum serves to cordially inquire upon {invitees[2]} to an evening of food and friends.\")\n",
        "print(f\"This memorandum serves to cordially inquire upon {invitees[3]} to an evening of food and friends.\")\n",
        "print(f\"This memorandum serves to cordially inquire upon {invitees[4]} to an evening of food and friends.\")\n",
        "print(f\"This memorandum serves to cordially inquire upon {invitees[5]} to an evening of food and friends.\")\n",
        "print(f\"This memorandum serves to cordially inquire upon {invitees[6]} to an evening of food and friends.\")"
      ]
    },
    {
      "cell_type": "markdown",
      "metadata": {
        "id": "ks3kM2njdUQs"
      },
      "source": [
        "## Question 7\n",
        "**Shrinking Guest List:** You just found out that your new dinner table won’t arrive in time for the dinner, and you have space for only two guests.\n",
        "\n",
        "Start with your program from Question 6. Add a new line that prints a message saying that you can invite only two people for dinner."
      ]
    },
    {
      "cell_type": "code",
      "execution_count": 24,
      "metadata": {
        "id": "WbndJRu3dUQs",
        "colab": {
          "base_uri": "https://localhost:8080/"
        },
        "outputId": "1001cfde-70ac-479d-8f7a-e2bd2127d082"
      },
      "outputs": [
        {
          "output_type": "stream",
          "name": "stdout",
          "text": [
            "Due to further unforeseen circumstances, only Bill Murray and John Deere's guest invitations will be upheld.\n"
          ]
        }
      ],
      "source": [
        "print(\"Due to further unforeseen circumstances, only two guest invitations can be upheld.\")"
      ]
    },
    {
      "cell_type": "markdown",
      "metadata": {
        "id": "hSj6lYDLdUQs"
      },
      "source": [
        "Use pop() to remove guests from your list one at a time until only two names remain in your list. Each time you pop a name from your list, print a message to that person letting them know you’re sorry you can’t invite them to dinner."
      ]
    },
    {
      "cell_type": "code",
      "execution_count": 50,
      "metadata": {
        "id": "gZ4_CFlHdUQs",
        "colab": {
          "base_uri": "https://localhost:8080/"
        },
        "outputId": "5881741d-98e8-4f89-c162-d661ab48e09c"
      },
      "outputs": [
        {
          "output_type": "stream",
          "name": "stdout",
          "text": [
            "John Wayne has been informed that their dinner invitation shall not be honored.\n",
            "D. B. Cooper has been informed that their dinner invitation shall not be honored.\n",
            "Beyonce has been informed that their dinner invitation shall not be honored.\n",
            "Michael Cera has been informed that their dinner invitation shall not be honored.\n",
            "John Deere has been informed that their dinner invitation shall not be honored.\n"
          ]
        }
      ],
      "source": [
        "print(f\"{invitees.pop()} has been informed that their dinner invitation shall not be honored.\")\n",
        "print(f\"{invitees.pop()} has been informed that their dinner invitation shall not be honored.\")\n",
        "print(f\"{invitees.pop()} has been informed that their dinner invitation shall not be honored.\")\n",
        "print(f\"{invitees.pop()} has been informed that their dinner invitation shall not be honored.\")\n",
        "print(f\"{invitees.pop()} has been informed that their dinner invitation shall not be honored.\")"
      ]
    },
    {
      "cell_type": "markdown",
      "metadata": {
        "id": "7M8Siec1dUQs"
      },
      "source": [
        "Print a message to each of the two people still on your list, letting them know they’re still invited."
      ]
    },
    {
      "cell_type": "code",
      "execution_count": 43,
      "metadata": {
        "id": "WlxTHCMydUQs",
        "colab": {
          "base_uri": "https://localhost:8080/"
        },
        "outputId": "8b363926-ad88-4472-a295-ff5d7b087787"
      },
      "outputs": [
        {
          "output_type": "stream",
          "name": "stdout",
          "text": [
            "Congratulations, Bob Saget, you made the cut.\n",
            "Congratulations, Bill Murray, you made the cut.\n"
          ]
        }
      ],
      "source": [
        "print(f\"Congratulations, {invitees[0]}, you made the cut.\")\n",
        "print(f\"Congratulations, {invitees[1]}, you made the cut.\")"
      ]
    },
    {
      "cell_type": "markdown",
      "metadata": {
        "id": "3WbCWkJAdUQs"
      },
      "source": [
        "Use del to remove the last two names from your list, so you have an empty list. Print your list to make sure you actually have an empty list at the end of your program."
      ]
    },
    {
      "cell_type": "code",
      "execution_count": 51,
      "metadata": {
        "id": "XuBs_RfRdUQs",
        "colab": {
          "base_uri": "https://localhost:8080/"
        },
        "outputId": "3288a42f-9298-43c7-d0cc-5bce41635d37"
      },
      "outputs": [
        {
          "output_type": "stream",
          "name": "stdout",
          "text": [
            "[]\n"
          ]
        }
      ],
      "source": [
        "del invitees[0]\n",
        "del invitees[0]\n",
        "print(invitees)"
      ]
    },
    {
      "cell_type": "code",
      "source": [],
      "metadata": {
        "id": "6-vmfMSu-uO-"
      },
      "execution_count": null,
      "outputs": []
    },
    {
      "cell_type": "markdown",
      "metadata": {
        "id": "sFWVDIq5dUQs"
      },
      "source": [
        "## Question 8\n",
        "**Seeing the World:** Think of at least five places in the world you’d like to visit.\n",
        "\n",
        "Store the locations in a list. Make sure the list is not in alphabetical order."
      ]
    },
    {
      "cell_type": "code",
      "execution_count": 64,
      "metadata": {
        "id": "CNRhDmkjdUQt"
      },
      "outputs": [],
      "source": [
        "locations = [\"Zion\", \"Berlin\", \"Tokyo\", \"Cairo\"]"
      ]
    },
    {
      "cell_type": "markdown",
      "metadata": {
        "id": "DZSDy4APdUQx"
      },
      "source": [
        "Print your list in its original order. Don’t worry about printing the list neatly, just print it as a raw Python list."
      ]
    },
    {
      "cell_type": "code",
      "execution_count": 63,
      "metadata": {
        "id": "Zvjk09WRdUQx",
        "colab": {
          "base_uri": "https://localhost:8080/"
        },
        "outputId": "33d9c3fe-cac9-4fbe-c152-91fa67a2a1ac"
      },
      "outputs": [
        {
          "output_type": "stream",
          "name": "stdout",
          "text": [
            "['Cairo', 'Tokyo', 'Berlin', 'Zion']\n"
          ]
        }
      ],
      "source": [
        "print(locations)"
      ]
    },
    {
      "cell_type": "markdown",
      "metadata": {
        "id": "3vDOon51dUQx"
      },
      "source": [
        "Use sorted() to print your list in alphabetical order without modifying the actual list."
      ]
    },
    {
      "cell_type": "code",
      "execution_count": 65,
      "metadata": {
        "id": "v6KRBShQdUQx",
        "colab": {
          "base_uri": "https://localhost:8080/"
        },
        "outputId": "4a38587d-0bfe-4cb5-b6ee-35b92326204b"
      },
      "outputs": [
        {
          "output_type": "stream",
          "name": "stdout",
          "text": [
            "['Berlin', 'Cairo', 'Tokyo', 'Zion']\n"
          ]
        }
      ],
      "source": [
        "print(sorted(locations))"
      ]
    },
    {
      "cell_type": "markdown",
      "metadata": {
        "id": "x0sI--fSdUQx"
      },
      "source": [
        "Show that your list is still in its original order by printing it."
      ]
    },
    {
      "cell_type": "code",
      "execution_count": 66,
      "metadata": {
        "id": "4ViGU2nRdUQy",
        "colab": {
          "base_uri": "https://localhost:8080/"
        },
        "outputId": "8f47256a-97e3-4a62-db1c-af4c2cafd682"
      },
      "outputs": [
        {
          "output_type": "stream",
          "name": "stdout",
          "text": [
            "['Zion', 'Berlin', 'Tokyo', 'Cairo']\n"
          ]
        }
      ],
      "source": [
        "print(locations)"
      ]
    },
    {
      "cell_type": "markdown",
      "metadata": {
        "id": "blsvJmqldUQy"
      },
      "source": [
        "Use sorted() to print your list in reverse alphabetical order without changing the order of the original list."
      ]
    },
    {
      "cell_type": "code",
      "execution_count": 72,
      "metadata": {
        "id": "gE00170vdUQy",
        "colab": {
          "base_uri": "https://localhost:8080/"
        },
        "outputId": "35b92901-904c-41fc-f098-3a328257aa5c"
      },
      "outputs": [
        {
          "output_type": "stream",
          "name": "stdout",
          "text": [
            "['Zion', 'Tokyo', 'Cairo', 'Berlin']\n"
          ]
        }
      ],
      "source": [
        "print(sorted(locations, reverse=True))"
      ]
    },
    {
      "cell_type": "markdown",
      "metadata": {
        "id": "OxYeIX5EdUQy"
      },
      "source": [
        "Show that your list is still in its original order by printing it again."
      ]
    },
    {
      "cell_type": "code",
      "execution_count": null,
      "metadata": {
        "id": "o-5UHXI4dUQy"
      },
      "outputs": [],
      "source": [
        "print(locations)"
      ]
    },
    {
      "cell_type": "markdown",
      "metadata": {
        "id": "xk4l8KcddUQy"
      },
      "source": [
        "Use reverse() to change the order of your list. Print the list to show that its order has changed."
      ]
    },
    {
      "cell_type": "code",
      "execution_count": 73,
      "metadata": {
        "id": "d-mHNrtNdUQy",
        "colab": {
          "base_uri": "https://localhost:8080/"
        },
        "outputId": "17b7f6a7-b2b0-4f9c-f185-ce9c388e833c"
      },
      "outputs": [
        {
          "output_type": "stream",
          "name": "stdout",
          "text": [
            "['Zion', 'Berlin', 'Tokyo', 'Cairo']\n"
          ]
        }
      ],
      "source": [
        "locations.reverse()\n",
        "print(locations)"
      ]
    },
    {
      "cell_type": "markdown",
      "metadata": {
        "id": "qG9Yi633dUQy"
      },
      "source": [
        "Use reverse() to change the order of your list again. Print the list to show it’s back to its original order."
      ]
    },
    {
      "cell_type": "code",
      "execution_count": 74,
      "metadata": {
        "id": "nUIssWmhdUQy",
        "colab": {
          "base_uri": "https://localhost:8080/"
        },
        "outputId": "cd68abe9-a183-407f-bf2d-344fee5afbc7"
      },
      "outputs": [
        {
          "output_type": "stream",
          "name": "stdout",
          "text": [
            "['Cairo', 'Tokyo', 'Berlin', 'Zion']\n"
          ]
        }
      ],
      "source": [
        "locations.reverse()\n",
        "print(locations)"
      ]
    },
    {
      "cell_type": "markdown",
      "metadata": {
        "id": "ip3oj0Q3dUQy"
      },
      "source": [
        "Use sort() to change your list so it’s stored in alphabetical order. Print the list to show that its order has been changed."
      ]
    },
    {
      "cell_type": "code",
      "execution_count": 75,
      "metadata": {
        "id": "2OJQIYt2dUQy",
        "colab": {
          "base_uri": "https://localhost:8080/"
        },
        "outputId": "2d2a0993-0acc-4210-ebd7-c5d5077acc9d"
      },
      "outputs": [
        {
          "output_type": "stream",
          "name": "stdout",
          "text": [
            "['Berlin', 'Cairo', 'Tokyo', 'Zion']\n"
          ]
        }
      ],
      "source": [
        "locations.sort()\n",
        "print(locations)"
      ]
    },
    {
      "cell_type": "markdown",
      "metadata": {
        "id": "AI6j7YDhdUQy"
      },
      "source": [
        "Use sort() to change your list so it’s stored in reverse alphabetical order. Print the list to show that its order has changed."
      ]
    },
    {
      "cell_type": "code",
      "execution_count": 76,
      "metadata": {
        "id": "ri8IZVE3dUQz",
        "colab": {
          "base_uri": "https://localhost:8080/"
        },
        "outputId": "089cba71-6a88-4113-8bd8-014fad61b0ec"
      },
      "outputs": [
        {
          "output_type": "stream",
          "name": "stdout",
          "text": [
            "['Zion', 'Tokyo', 'Cairo', 'Berlin']\n"
          ]
        }
      ],
      "source": [
        "locations.sort(reverse=True)\n",
        "print(locations)"
      ]
    },
    {
      "cell_type": "markdown",
      "metadata": {
        "id": "xkwR5sRsdUQz"
      },
      "source": [
        "## Question 9\n",
        "**Dinner Guests:** Working with one of the programs from Question 4 through Question 7, use len() to print a message indicating the number of people you are inviting to dinner."
      ]
    },
    {
      "cell_type": "code",
      "execution_count": 78,
      "metadata": {
        "id": "j0N52ZI9dUQz",
        "colab": {
          "base_uri": "https://localhost:8080/"
        },
        "outputId": "5ca7d5cd-8a6c-4cce-9a69-2b41088e3822"
      },
      "outputs": [
        {
          "output_type": "execute_result",
          "data": {
            "text/plain": [
              "4"
            ]
          },
          "metadata": {},
          "execution_count": 78
        }
      ],
      "source": [
        "invitees = [\"Bill Murray\", \"Michael Cera\", \"Beyonce\", \"D. B. Cooper\"]\n",
        "len(invitees)"
      ]
    },
    {
      "cell_type": "markdown",
      "metadata": {
        "id": "bn2wC-nbdUQz"
      },
      "source": [
        "## Question 10\n",
        "**Every Function:** Think of something you could store in a list. For example, you could make a list of mountains, rivers, countries, cities, languages, or anything else you’d like. Write a program that creates a list containing these items and then uses each function introduced in this chapter at least once."
      ]
    },
    {
      "cell_type": "code",
      "execution_count": 96,
      "metadata": {
        "id": "QZtGxsztdUQz",
        "colab": {
          "base_uri": "https://localhost:8080/"
        },
        "outputId": "d7fbbe69-6bb1-4559-82e9-07584f6889bf"
      },
      "outputs": [
        {
          "output_type": "stream",
          "name": "stdout",
          "text": [
            "Spider-Man 2\n",
            "Spider-Man 2 was released in 2004.\n",
            "['The Amazing Spider-Man', 'Spider-Man: Into the Spider-Verse', 'Spider-Man: Homecoming', 'Spider-Man 3', 'Spider-Man']\n",
            "['Spider-Man', 'Spider-Man 3', 'Spider-Man: Homecoming', 'Spider-Man: Into the Spider-Verse', 'The Amazing Spider-Man']\n"
          ]
        },
        {
          "output_type": "execute_result",
          "data": {
            "text/plain": [
              "4"
            ]
          },
          "metadata": {},
          "execution_count": 96
        }
      ],
      "source": [
        "franchise = [\"Spider-Man 2\", \"The Amazing Spider-Man\", \"Spider-Man: Homecoming\", \"Spider-Man: Into the Spider-Verse\"]\n",
        "print(franchise[0])\n",
        "print(f\"{franchise[0]} was released in 2004.\")\n",
        "franchise[0] = \"Spider-Man\"\n",
        "franchise.insert(0, \"Spider-Man 3\")\n",
        "franchise.append(\"Spider-Man: No Way Home\")\n",
        "franchise.pop()\n",
        "print(sorted(franchise, reverse=True))\n",
        "franchise.sort()\n",
        "print(franchise)\n",
        "del franchise[0]\n",
        "len(franchise)"
      ]
    }
  ],
  "metadata": {
    "kernelspec": {
      "display_name": "Python 3 (ipykernel)",
      "language": "python",
      "name": "python3"
    },
    "language_info": {
      "codemirror_mode": {
        "name": "ipython",
        "version": 3
      },
      "file_extension": ".py",
      "mimetype": "text/x-python",
      "name": "python",
      "nbconvert_exporter": "python",
      "pygments_lexer": "ipython3",
      "version": "3.8.10"
    },
    "colab": {
      "provenance": []
    }
  },
  "nbformat": 4,
  "nbformat_minor": 0
}